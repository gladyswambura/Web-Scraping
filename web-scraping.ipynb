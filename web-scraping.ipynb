{
 "cells": [
  {
   "cell_type": "code",
   "execution_count": 1,
   "id": "0b2a3032",
   "metadata": {
    "_cell_guid": "b1076dfc-b9ad-4769-8c92-a6c4dae69d19",
    "_uuid": "8f2839f25d086af736a60e9eeb907d3b93b6e0e5",
    "execution": {
     "iopub.execute_input": "2024-03-03T19:09:45.298858Z",
     "iopub.status.busy": "2024-03-03T19:09:45.298255Z",
     "iopub.status.idle": "2024-03-03T19:09:46.466100Z",
     "shell.execute_reply": "2024-03-03T19:09:46.464994Z"
    },
    "papermill": {
     "duration": 1.18192,
     "end_time": "2024-03-03T19:09:46.469343",
     "exception": false,
     "start_time": "2024-03-03T19:09:45.287423",
     "status": "completed"
    },
    "tags": []
   },
   "outputs": [],
   "source": [
    "# This Python 3 environment comes with many helpful analytics libraries installed\n",
    "# It is defined by the kaggle/python Docker image: https://github.com/kaggle/docker-python\n",
    "# For example, here's several helpful packages to load\n",
    "\n",
    "import numpy as np # linear algebra\n",
    "import pandas as pd # data processing, CSV file I/O (e.g. pd.read_csv)\n",
    "import requests\n",
    "from bs4 import BeautifulSoup\n",
    "from urllib import request\n",
    "from PIL import Image\n",
    "import matplotlib.pyplot as plt\n",
    "from io import BytesIO\n",
    "\n",
    "# Input data files are available in the read-only \"../input/\" directory\n",
    "# For example, running this (by clicking run or pressing Shift+Enter) will list all files under the input directory\n",
    "\n",
    "import os\n",
    "for dirname, _, filenames in os.walk('/kaggle/input'):\n",
    "    for filename in filenames:\n",
    "        print(os.path.join(dirname, filename))\n",
    "\n",
    "# You can write up to 20GB to the current directory (/kaggle/working/) that gets preserved as output when you create a version using \"Save & Run All\" \n",
    "# You can also write temporary files to /kaggle/temp/, but they won't be saved outside of the current session"
   ]
  },
  {
   "cell_type": "code",
   "execution_count": 2,
   "id": "2f816992",
   "metadata": {
    "execution": {
     "iopub.execute_input": "2024-03-03T19:09:46.485849Z",
     "iopub.status.busy": "2024-03-03T19:09:46.484768Z",
     "iopub.status.idle": "2024-03-03T19:09:49.068344Z",
     "shell.execute_reply": "2024-03-03T19:09:49.066769Z"
    },
    "papermill": {
     "duration": 2.595374,
     "end_time": "2024-03-03T19:09:49.071642",
     "exception": false,
     "start_time": "2024-03-03T19:09:46.476268",
     "status": "completed"
    },
    "tags": []
   },
   "outputs": [],
   "source": [
    "url = \"https://www.jumia.co.ke/all-products/\"\n",
    "requests = requests.get(url)\n",
    "## Parsing the html soup\n",
    "soup = BeautifulSoup(requests.text,\"html.parser\")\n",
    "items = soup.find_all(\"article\", attrs = {\"class\":\"prd _fb col c-prd\"})"
   ]
  },
  {
   "cell_type": "code",
   "execution_count": 3,
   "id": "553ff36f",
   "metadata": {
    "execution": {
     "iopub.execute_input": "2024-03-03T19:09:49.086564Z",
     "iopub.status.busy": "2024-03-03T19:09:49.086081Z",
     "iopub.status.idle": "2024-03-03T19:09:49.092253Z",
     "shell.execute_reply": "2024-03-03T19:09:49.091103Z"
    },
    "papermill": {
     "duration": 0.017729,
     "end_time": "2024-03-03T19:09:49.095955",
     "exception": false,
     "start_time": "2024-03-03T19:09:49.078226",
     "status": "completed"
    },
    "tags": []
   },
   "outputs": [
    {
     "name": "stdout",
     "output_type": "stream",
     "text": [
      "40\n"
     ]
    }
   ],
   "source": [
    "print(len(items))"
   ]
  },
  {
   "cell_type": "code",
   "execution_count": 4,
   "id": "69e8610d",
   "metadata": {
    "execution": {
     "iopub.execute_input": "2024-03-03T19:09:49.111630Z",
     "iopub.status.busy": "2024-03-03T19:09:49.111107Z",
     "iopub.status.idle": "2024-03-03T19:09:49.118329Z",
     "shell.execute_reply": "2024-03-03T19:09:49.117231Z"
    },
    "papermill": {
     "duration": 0.018941,
     "end_time": "2024-03-03T19:09:49.121476",
     "exception": false,
     "start_time": "2024-03-03T19:09:49.102535",
     "status": "completed"
    },
    "tags": []
   },
   "outputs": [
    {
     "name": "stdout",
     "output_type": "stream",
     "text": [
      "<article class=\"prd _fb col c-prd\"><a class=\"btn _i _rnd -mas -fsh0 -me-start _wslt _sec\" data-pop-open=\"addToWishlist\" data-pop-trig=\"atw\" data-sku=\"NI534ST019V71NAFAMZ\" href=\"/customer/account/login/?tkWl=NI534ST019V71NAFAMZ-120099954&amp;return=%2Fall-products%2F\" rel=\"nofollow\"><svg aria-label=\"Add to wishlist\" class=\"ic -f-or5\" height=\"16\" viewbox=\"0 0 24 24\" width=\"16\"><use xlink:href=\"https://www.jumia.co.ke/assets_he/images/i-icons.a66628fd.svg#saved-items\"></use></svg></a><a class=\"core\" data-gtm-brand=\"NIVEA\" data-gtm-category=\"Health &amp; Beauty/Beauty &amp; Personal Care/Personal Care/Skin Care/Body/Moisturizers/Lotions\" data-gtm-dimension23=\"\" data-gtm-dimension26=\"630\" data-gtm-dimension27=\"4.7\" data-gtm-dimension28=\"1\" data-gtm-dimension37=\"0\" data-gtm-dimension43=\"BDEAL|BLF|BLF_02|Boost|Bundle|COL_224|COL_260|COL_295|COL_297|COL_302|CP_24|CP_26|CP_MT117|CP_MT123|CP_MT134|CP_UN10|CP_UN105|CP_UN138|CP_UN237|CP_UN247|CP_UN250|CP_UN255|CP_UN34|CP_UN9|DOW_10|DOW_100|INV_CLEAR|JA23_01|JMALL|MLP4|WCS|WHSL|XMAS|XMAS22|XMAS22_01\" data-gtm-dimension44=\"0\" data-gtm-id=\"NI534ST019V71NAFAMZ\" data-gtm-list=\"\" data-gtm-name=\"Radiant &amp; Beauty Advanced Care Lotion For Women - 400ml (Pack Of 2)\" data-gtm-position=\"1\" data-gtm-price=\"5.47\" data-track-onclick=\"eecProduct\" data-track-onview=\"eecProduct\" href=\"/nivea-radiant-beauty-advanced-care-lotion-for-women-400ml-pack-of-2-94993120.html\"><div class=\"img-c\"><img alt=\"\" class=\"img\" data-lazy=\"true\" data-src=\"https://ke.jumia.is/unsafe/fit-in/300x300/filters:fill(white)/product/02/139949/1.jpg?6012\" height=\"208\" src=\"data:image/gif;base64,R0lGODlhAQABAIAAAAAAAP///yH5BAEAAAAALAAAAAABAAEAAAIBRAA7\" width=\"208\"/><img alt=\"BUNDLE\" class=\"_ni camp\" data-lazy=\"true\" data-src=\"https://ke.jumia.is/badges/bundle/1/138x18.png?5956\" src=\"data:image/gif;base64,R0lGODlhAQABAIAAAAAAAP///yH5BAEAAAAALAAAAAABAAEAAAIBRAA7\"/></div><div class=\"info\"><div class=\"bdg _mall _xs\">Official Store</div><h3 class=\"name\">NIVEA Radiant &amp; Beauty Advanced Care Lotion For Women - 400ml (Pack Of 2)</h3><div class=\"prc\">KSh 854</div><div class=\"s-prc-w\"><div class=\"old\">KSh 1,460</div><div class=\"bdg _dsct _sm\">42%</div></div><div class=\"rev\"><div class=\"stars _s\">4.7 out of 5<div class=\"in\" style=\"width:94%\"></div></div>(630)</div><svg aria-label=\"Express Shipping\" class=\"ic xprss\" height=\"10\" viewbox=\"0 0 114 12\" width=\"94\"><use xlink:href=\"https://www.jumia.co.ke/assets_he/images/i-shop-jumia.9f5451c7.svg#express\"></use></svg></div></a><footer class=\"ft\"><form action=\"/cart/products/NI534ST019V71NAFAMZ-120099954/quantity/\" class=\"-df -i-ctr -pr -j-bet\" data-add-cart=\"\" data-gtm-brand=\"NIVEA\" data-gtm-category=\"Health &amp; Beauty/Beauty &amp; Personal Care/Personal Care/Skin Care/Body/Moisturizers/Lotions\" data-gtm-dimension23=\"\" data-gtm-dimension26=\"630\" data-gtm-dimension27=\"4.7\" data-gtm-dimension28=\"1\" data-gtm-dimension37=\"0\" data-gtm-dimension43=\"BDEAL|BLF|BLF_02|Boost|Bundle|COL_224|COL_260|COL_295|COL_297|COL_302|CP_24|CP_26|CP_MT117|CP_MT123|CP_MT134|CP_UN10|CP_UN105|CP_UN138|CP_UN237|CP_UN247|CP_UN250|CP_UN255|CP_UN34|CP_UN9|DOW_10|DOW_100|INV_CLEAR|JA23_01|JMALL|MLP4|WCS|WHSL|XMAS|XMAS22|XMAS22_01\" data-gtm-dimension44=\"0\" data-gtm-id=\"NI534ST019V71NAFAMZ\" data-gtm-name=\"Radiant &amp; Beauty Advanced Care Lotion For Women - 400ml (Pack Of 2)\" data-gtm-price=\"5.47\" data-gtm-simplesku=\"NI534ST019V71NAFAMZ-120099954\" data-gtm-variant=\"\" data-sku=\"NI534ST019V71NAFAMZ\" data-svar=\"NI534ST019V71NAFAMZ-120099954\" data-track-onsubmit=\"addToCart\" data-xhr=\"true\" method=\"post\"><button class=\"add btn _prim -pea _md\" data-submit=\"\" name=\"action\" type=\"button\" value=\"in\">Add To Cart</button><input name=\"capiId\" type=\"hidden\" value=\"_1709492987_{eventType}\"/><input name=\"csrfToken\" type=\"hidden\" value=\"248d101ea0997c8a8211a5f0efa0eb58\"/></form></footer></article>\n"
     ]
    }
   ],
   "source": [
    "print(items[0])"
   ]
  },
  {
   "cell_type": "code",
   "execution_count": 5,
   "id": "daebf11b",
   "metadata": {
    "execution": {
     "iopub.execute_input": "2024-03-03T19:09:49.136839Z",
     "iopub.status.busy": "2024-03-03T19:09:49.136316Z",
     "iopub.status.idle": "2024-03-03T19:09:49.143504Z",
     "shell.execute_reply": "2024-03-03T19:09:49.142239Z"
    },
    "papermill": {
     "duration": 0.017533,
     "end_time": "2024-03-03T19:09:49.145648",
     "exception": false,
     "start_time": "2024-03-03T19:09:49.128115",
     "status": "completed"
    },
    "tags": []
   },
   "outputs": [
    {
     "name": "stdout",
     "output_type": "stream",
     "text": [
      "NIVEA Radiant & Beauty Advanced Care Lotion For Women - 400ml (Pack Of 2)\n"
     ]
    }
   ],
   "source": [
    "first_items = items[0]\n",
    "first_items_name =first_items.find(\"h3\",attrs = {\"class\":\"name\"}).text\n",
    "print(first_items_name)"
   ]
  },
  {
   "cell_type": "code",
   "execution_count": 6,
   "id": "0efee82f",
   "metadata": {
    "execution": {
     "iopub.execute_input": "2024-03-03T19:09:49.161327Z",
     "iopub.status.busy": "2024-03-03T19:09:49.160512Z",
     "iopub.status.idle": "2024-03-03T19:09:49.168635Z",
     "shell.execute_reply": "2024-03-03T19:09:49.167656Z"
    },
    "papermill": {
     "duration": 0.018569,
     "end_time": "2024-03-03T19:09:49.170865",
     "exception": false,
     "start_time": "2024-03-03T19:09:49.152296",
     "status": "completed"
    },
    "tags": []
   },
   "outputs": [
    {
     "data": {
      "text/plain": [
       "'KSh 854'"
      ]
     },
     "execution_count": 6,
     "metadata": {},
     "output_type": "execute_result"
    }
   ],
   "source": [
    "first_items_price = first_items.find(\"div\", attrs = {\"class\":\"prc\"}).text\n",
    "first_items_price"
   ]
  },
  {
   "cell_type": "code",
   "execution_count": 7,
   "id": "f687cd0d",
   "metadata": {
    "execution": {
     "iopub.execute_input": "2024-03-03T19:09:49.186747Z",
     "iopub.status.busy": "2024-03-03T19:09:49.186035Z",
     "iopub.status.idle": "2024-03-03T19:09:49.192747Z",
     "shell.execute_reply": "2024-03-03T19:09:49.191585Z"
    },
    "papermill": {
     "duration": 0.017778,
     "end_time": "2024-03-03T19:09:49.195455",
     "exception": false,
     "start_time": "2024-03-03T19:09:49.177677",
     "status": "completed"
    },
    "tags": []
   },
   "outputs": [
    {
     "name": "stdout",
     "output_type": "stream",
     "text": [
      "/nivea-radiant-beauty-advanced-care-lotion-for-women-400ml-pack-of-2-94993120.html\n"
     ]
    }
   ],
   "source": [
    "first_items = items[0]\n",
    "first_items_link = first_items.find(\"a\", attrs = {\"class\":\"core\"}).get(\"href\")\n",
    "print(first_items_link)"
   ]
  },
  {
   "cell_type": "markdown",
   "id": "ff01cc65",
   "metadata": {
    "papermill": {
     "duration": 0.006711,
     "end_time": "2024-03-03T19:09:49.209474",
     "exception": false,
     "start_time": "2024-03-03T19:09:49.202763",
     "status": "completed"
    },
    "tags": []
   },
   "source": [
    "first_items = items[0]\n",
    "first_items_image = first_items.find(\"img\", attrs = {\"class\":\"img\"}).get(\"image_url\")\n",
    "print(first_items_image)\n",
    "\n",
    "image = Image.open(first_items_image)\n",
    "response = requests.get(first_items_image)\n",
    "\n",
    "image = Image.open(BytesIO(response.content))\n",
    "\n",
    "plt.imshow(image)\n",
    "plt.axis('off')\n",
    "plt.show()"
   ]
  },
  {
   "cell_type": "code",
   "execution_count": 8,
   "id": "980abfbb",
   "metadata": {
    "execution": {
     "iopub.execute_input": "2024-03-03T19:09:49.226641Z",
     "iopub.status.busy": "2024-03-03T19:09:49.225425Z",
     "iopub.status.idle": "2024-03-03T19:09:49.232797Z",
     "shell.execute_reply": "2024-03-03T19:09:49.231590Z"
    },
    "papermill": {
     "duration": 0.018932,
     "end_time": "2024-03-03T19:09:49.235454",
     "exception": false,
     "start_time": "2024-03-03T19:09:49.216522",
     "status": "completed"
    },
    "tags": []
   },
   "outputs": [
    {
     "name": "stdout",
     "output_type": "stream",
     "text": [
      "42%\n"
     ]
    }
   ],
   "source": [
    "##discount\n",
    "first_items = items[0]\n",
    "first_items_discount = first_items.find(\"div\", attrs = {\"class\":\"bdg _dsct _sm\"}).text\n",
    "print(first_items_discount)"
   ]
  },
  {
   "cell_type": "code",
   "execution_count": 9,
   "id": "9fe7d0d6",
   "metadata": {
    "execution": {
     "iopub.execute_input": "2024-03-03T19:09:49.252424Z",
     "iopub.status.busy": "2024-03-03T19:09:49.251523Z",
     "iopub.status.idle": "2024-03-03T19:09:49.290428Z",
     "shell.execute_reply": "2024-03-03T19:09:49.289020Z"
    },
    "papermill": {
     "duration": 0.051125,
     "end_time": "2024-03-03T19:09:49.293841",
     "exception": false,
     "start_time": "2024-03-03T19:09:49.242716",
     "status": "completed"
    },
    "tags": []
   },
   "outputs": [
    {
     "name": "stdout",
     "output_type": "stream",
     "text": [
      "40\n"
     ]
    },
    {
     "data": {
      "text/plain": [
       "[('NIVEA Radiant & Beauty Advanced Care Lotion For Women - 400ml (Pack Of 2)',\n",
       "  'KSh 854',\n",
       "  'KSh 1,460',\n",
       "  '42%',\n",
       "  '/nivea-radiant-beauty-advanced-care-lotion-for-women-400ml-pack-of-2-94993120.html'),\n",
       " ('Vitron HTC4388FS - 43\" Smart  Android Frameless TV - Black',\n",
       "  'KSh 21,506',\n",
       "  'KSh 28,599',\n",
       "  '25%',\n",
       "  '/vitron-htc4388fs-43-smart-android-frameless-tv-black-93348943.html'),\n",
       " (\"Hikers 43'' Inch Frameless Android Smart FHD LED TV - Black\",\n",
       "  'KSh 21,599',\n",
       "  'KSh 28,644',\n",
       "  '25%',\n",
       "  '/hikers-43-inch-frameless-android-smart-fhd-led-tv-black-130121825.html'),\n",
       " ('NIVEA Perfect & Radiant Even Tone Day And Night Cream For Women - 50ml',\n",
       "  'KSh 899',\n",
       "  'KSh 1,560',\n",
       "  '42%',\n",
       "  '/nivea-perfect-radiant-even-tone-day-and-night-cream-for-women-50ml-68528030.html'),\n",
       " ('AILYONS FK-0301 Stainless Steel 1.8L Electric Kettle-Black',\n",
       "  'KSh 693',\n",
       "  'KSh 1,399',\n",
       "  '50%',\n",
       "  '/ailyons-fk-0301-stainless-steel-1.8l-electric-kettle-black-34080919.html'),\n",
       " ('Nunix R5 Hot & Normal Free Standing Water Dispenser - White',\n",
       "  'KSh 3,999',\n",
       "  'KSh 4,180',\n",
       "  '4%',\n",
       "  '/nunix-r5-hot-normal-free-standing-water-dispenser-white-160082072.html'),\n",
       " ('Garnier Anti-Blemish Charcoal Serum With AHA + BHA & Niacinamide For Acne Prone Skin',\n",
       "  'KSh 1,400',\n",
       "  'KSh 1,750',\n",
       "  '20%',\n",
       "  '/garnier-anti-blemish-charcoal-serum-with-aha-bha-niacinamide-for-acne-prone-skin-119519704.html'),\n",
       " ('Tecno Spark 10 , 6.6\" FHD,128GB ROM+8GB RAM, 5000mAh,Blue',\n",
       "  'KSh 24,999',\n",
       "  None,\n",
       "  '20%',\n",
       "  '/tecno-spark-10-6.6-fhd128gb-rom8gb-ram-5000mahblue-146192465.html'),\n",
       " ('AILYONS FK-0301 Stainless Steel 1.8L Electric Kettle-Silver.',\n",
       "  'KSh 628',\n",
       "  None,\n",
       "  '20%',\n",
       "  '/ailyons-fk-0301-stainless-steel-1.8l-electric-kettle-silver.-187952560.html'),\n",
       " ('AILYONS ELP2404K 2.1CH SubWoofer Home Theatrer Multi Media Speaker System',\n",
       "  'KSh 2,906',\n",
       "  'KSh 4,099',\n",
       "  '29%',\n",
       "  '/ailyons-elp2404k-2.1ch-subwoofer-home-theatrer-multi-media-speaker-system-156070365.html'),\n",
       " (\"Fashion 6Pcs Soft Cotton Checked Men's Boxers – Multicolor\",\n",
       "  'KSh 618',\n",
       "  'KSh 688',\n",
       "  '10%',\n",
       "  '/fashion-6pcs-soft-cotton-checked-mens-boxers-multicolor-82923419.html'),\n",
       " ('Garnier Even & Matte  Vitamin C Booster Serum 15ml',\n",
       "  'KSh 850',\n",
       "  None,\n",
       "  '10%',\n",
       "  '/garnier-even-matte-vitamin-c-booster-serum-15ml-115443314.html'),\n",
       " ('AILYONS HD-198A Electric Dry Iron Box White & Blue',\n",
       "  'KSh 839',\n",
       "  'KSh 1,299',\n",
       "  '35%',\n",
       "  '/ailyons-hd-198a-electric-dry-iron-box-white-blue-47419573.html'),\n",
       " ('Rashnik RN-999 2 In 1 Blender & Grinder –1.5L – 400W - Black',\n",
       "  'KSh 1,624',\n",
       "  None,\n",
       "  '35%',\n",
       "  '/rashnik-rn-999-2-in-1-blender-grinder-1.5l-400w-black-163107674.html'),\n",
       " ('Nokia C32, 64GB + 4GB (Upto 7GB RAM) 5000MAh, Android 13, Black-Charcoal',\n",
       "  'KSh 19,999',\n",
       "  None,\n",
       "  '35%',\n",
       "  '/nokia-c32-64gb-4gb-upto-7gb-ram-5000mah-android-13-black-charcoal-150536966.html'),\n",
       " (\"Hikers 32'' Digital Frameless HD LED TV-Black\",\n",
       "  'KSh 11,690',\n",
       "  'KSh 17,357',\n",
       "  '33%',\n",
       "  '/hikers-32-digital-frameless-hd-led-tv-black-130118973.html'),\n",
       " ('Vision Plus VP8832DF 32\" HD Frameless Digital LED TV - Black + FREE WALL MOUNT.',\n",
       "  'KSh 12,151',\n",
       "  'KSh 15,995',\n",
       "  '24%',\n",
       "  '/vision-plus-vp8832df-32-hd-frameless-digital-led-tv-black-free-wall-mount.-125899150.html'),\n",
       " ('Stereo F9 Bluetooth Earphone  Power Headset',\n",
       "  'KSh 630',\n",
       "  'KSh 1,014',\n",
       "  '38%',\n",
       "  '/generic-stereo-f9-bluetooth-earphone-power-headset-35221857.html'),\n",
       " ('Garnier Even & Matte Vitamin C Protection Cream SPF30 50ml',\n",
       "  'KSh 960',\n",
       "  'KSh 1,200',\n",
       "  '20%',\n",
       "  '/garnier-even-matte-vitamin-c-protection-cream-spf30-50ml-69384579.html'),\n",
       " ('NIVEA MEN Deep Antibacterial Anti-Perspirant Rollon,48h - 50ml (Pack Of 2)',\n",
       "  'KSh 655',\n",
       "  'KSh 1,040',\n",
       "  '37%',\n",
       "  '/nivea-men-deep-antibacterial-anti-perspirant-rollon48h-50ml-pack-of-2-68528034.html'),\n",
       " ('AILYONS TYB-205 Blender 2In1 With GrinderMachine 1.5LBlack',\n",
       "  'KSh 1,899',\n",
       "  'KSh 2,599',\n",
       "  '27%',\n",
       "  '/ailyons-tyb-205-blender-2in1-with-grindermachine-1.5lblack-86622778.html'),\n",
       " ('Menengai Menengai Cream Bar Soap – 500g',\n",
       "  'KSh 73',\n",
       "  'KSh 139',\n",
       "  '47%',\n",
       "  '/menengai-menengai-cream-bar-soap-500g-125926463.html'),\n",
       " ('Garnier Even & Matte  Vitamin C Booster Serum 30ml.',\n",
       "  'KSh 1,400',\n",
       "  'KSh 1,750',\n",
       "  '20%',\n",
       "  '/garnier-even-matte-vitamin-c-booster-serum-30ml.-47090194.html'),\n",
       " ('AILYONS HD-199A Electric Dry Iron Box Silver & Black',\n",
       "  'KSh 969',\n",
       "  'KSh 1,399',\n",
       "  '31%',\n",
       "  '/ailyons-hd-199a-electric-dry-iron-box-silver-black-72938812.html'),\n",
       " ('Fashion 2024 Mens Casual High-Top Shoes Running Sneakers - Beige',\n",
       "  'KSh 1,860',\n",
       "  'KSh 3,152',\n",
       "  '41%',\n",
       "  '/fashion-2024-mens-casual-high-top-shoes-running-sneakers-beige-48872199.html'),\n",
       " ('Roch RFR-150DT-I Top-Mounted Defrost Fridge - 118L - Inox',\n",
       "  'KSh 26,999',\n",
       "  'KSh 36,000',\n",
       "  '25%',\n",
       "  '/roch-rfr-150dt-i-top-mounted-defrost-fridge-118l-inox-169975157.html'),\n",
       " ('Garnier Pure Active 3 In1 Charcoal Anti Blackhead Mask Wash Scrub -150ml',\n",
       "  'KSh 1,036',\n",
       "  'KSh 1,295',\n",
       "  '20%',\n",
       "  '/garnier-pure-active-3-in1-charcoal-anti-blackhead-mask-wash-scrub-150ml-15855244.html'),\n",
       " ('Skyworth 43E3A, 43\" Full HD Frameless Smart Android TV – Black',\n",
       "  'KSh 27,159',\n",
       "  'KSh 44,999',\n",
       "  '40%',\n",
       "  '/skyworth-43e3a-43-full-hd-frameless-smart-android-tv-black-69299701.html'),\n",
       " (\"Fashion 6Pcs Soft Cotton Brief Men's Boxers – Waist 29-35inc\",\n",
       "  'KSh 789',\n",
       "  'KSh 899',\n",
       "  '12%',\n",
       "  '/fashion-6pcs-soft-cotton-brief-mens-boxers-waist-29-35inc-86446468.html'),\n",
       " ('VON Von VALS-75BWY Twin Tub Washing Machine - 7.5Kg',\n",
       "  'KSh 22,799',\n",
       "  'KSh 29,995',\n",
       "  '24%',\n",
       "  '/von-von-vals-75bwy-twin-tub-washing-machine-7.5kg-114307984.html'),\n",
       " ('Vitron HTC3200S 32\" Smart Frameless Android LED TV',\n",
       "  'KSh 18,069',\n",
       "  None,\n",
       "  '24%',\n",
       "  '/vitron-htc3200s-32-smart-frameless-android-led-tv-73938631.html'),\n",
       " (\"Fashion Men's Shoes Fashion Sneakers Casual Outdoor Easywear Trendy Shoes Running Sport Sneakers\",\n",
       "  'KSh 1,099',\n",
       "  'KSh 1,371',\n",
       "  '20%',\n",
       "  '/fashion-mens-shoes-fashion-sneakers-casual-outdoor-easywear-trendy-shoes-running-sport-sneakers-57097994.html'),\n",
       " ('HOMMY 3 Column Portable Wardrobe - Brown Cover',\n",
       "  'KSh 2,599',\n",
       "  'KSh 4,500',\n",
       "  '42%',\n",
       "  '/hommy-3-column-portable-wardrobe-brown-cover-34974676.html'),\n",
       " ('AILYONS FK-0306 Stainless Steel 1.8L Electric Kettle-White',\n",
       "  'KSh 788',\n",
       "  'KSh 1,399',\n",
       "  '44%',\n",
       "  '/ailyons-fk-0306-stainless-steel-1.8l-electric-kettle-white-61982685.html'),\n",
       " ('Infinix Smart 7 HD, 6.6\", 2GB RAM, 64GB, 5000mAh, 4G(DUAL SIM) - Ink Black.',\n",
       "  'KSh 12,999',\n",
       "  'KSh 14,999',\n",
       "  '13%',\n",
       "  '/infinix-smart-7-hd-6.6-2gb-ram-64gb-5000mah-4gdual-sim-ink-black.-126833209.html'),\n",
       " ('Lyons FY-1731 Blender 2 In 1 With Grinder Machines  1.5L',\n",
       "  'KSh 1,799',\n",
       "  'KSh 2,599',\n",
       "  '31%',\n",
       "  '/lyons-fy-1731-blender-2-in-1-with-grinder-machines-1.5l-27035910.html'),\n",
       " ('Vitron 4068, 40\" Smart Android TV, Netflix, Youtube - Black',\n",
       "  'KSh 18,836',\n",
       "  'KSh 20,449',\n",
       "  '8%',\n",
       "  '/vitron-4068-40-smart-android-tv-netflix-youtube-black-43686321.html'),\n",
       " ('AILYONS AFK-111 Water Dispenser Hot And Normal With Storage Cabinet',\n",
       "  'KSh 3,499',\n",
       "  'KSh 4,999',\n",
       "  '30%',\n",
       "  '/ailyons-afk-111-water-dispenser-hot-and-normal-with-storage-cabinet-118096692.html'),\n",
       " ('Ace Elec ACEELEC F9 Wireless Fingerprint Touch Bluetooth Headset',\n",
       "  'KSh 590',\n",
       "  'KSh 990',\n",
       "  '40%',\n",
       "  '/ace-elec-aceelec-f9-wireless-fingerprint-touch-bluetooth-headset-133077776.html'),\n",
       " (\"Fashion 6Pcs Pure Cotton Checked Men's Boxers – Multicolor\",\n",
       "  'KSh 799 - KSh 1,199',\n",
       "  'KSh 1,250',\n",
       "  '36%',\n",
       "  '/fashion-6pcs-pure-cotton-checked-mens-boxers-multicolor-33601648.html')]"
      ]
     },
     "execution_count": 9,
     "metadata": {},
     "output_type": "execute_result"
    }
   ],
   "source": [
    "records= []\n",
    "for item in items:\n",
    "    try:\n",
    "        item_name =item.find(\"h3\",attrs = {\"class\":\"name\"}).text\n",
    "        current_price =item.find(\"div\", attrs = {\"class\":\"prc\"}).text\n",
    "        old_price_element = item.find(\"div\", attrs = {\"class\":\"old\"})\n",
    "        item_discount_element = item.find(\"div\", attrs = {\"class\":\"bdg _dsct _sm\"})\n",
    "        item_link = item.find(\"a\", attrs = {\"class\":\"core\"}).get(\"href\")\n",
    "\n",
    "        if old_price_element: \n",
    "            old_price = old_price_element.text\n",
    "        else:\n",
    "            old_price = None\n",
    "        if item_discount_element:\n",
    "            item_discount = item_discount_element.text\n",
    "        else:\n",
    "            item_dicount = None\n",
    "        records.append(( item_name, current_price,old_price, item_discount, item_link))\n",
    "\n",
    "    except AttributeError:\n",
    "        records.append(None)\n",
    "print(len(records))\n",
    "\n",
    "records"
   ]
  },
  {
   "cell_type": "code",
   "execution_count": 10,
   "id": "b0d55cec",
   "metadata": {
    "execution": {
     "iopub.execute_input": "2024-03-03T19:09:49.311989Z",
     "iopub.status.busy": "2024-03-03T19:09:49.311514Z",
     "iopub.status.idle": "2024-03-03T19:15:46.208101Z",
     "shell.execute_reply": "2024-03-03T19:15:46.206277Z"
    },
    "papermill": {
     "duration": 356.909352,
     "end_time": "2024-03-03T19:15:46.211141",
     "exception": false,
     "start_time": "2024-03-03T19:09:49.301789",
     "status": "completed"
    },
    "tags": []
   },
   "outputs": [
    {
     "name": "stdout",
     "output_type": "stream",
     "text": [
      "Page 1 scrapped successfully\n",
      "Page 2 scrapped successfully\n",
      "Page 3 scrapped successfully\n",
      "Page 4 scrapped successfully\n",
      "Page 5 scrapped successfully\n",
      "Page 6 scrapped successfully\n",
      "Page 7 scrapped successfully\n",
      "Page 8 scrapped successfully\n",
      "Page 9 scrapped successfully\n",
      "Page 10 scrapped successfully\n",
      "Page 11 scrapped successfully\n",
      "Page 12 scrapped successfully\n",
      "Page 13 scrapped successfully\n",
      "Page 14 scrapped successfully\n",
      "Page 15 scrapped successfully\n",
      "Page 16 scrapped successfully\n",
      "Page 17 scrapped successfully\n",
      "Page 18 scrapped successfully\n",
      "Page 19 scrapped successfully\n",
      "Page 20 scrapped successfully\n",
      "Page 21 scrapped successfully\n",
      "Page 22 scrapped successfully\n",
      "Page 23 scrapped successfully\n",
      "Page 24 scrapped successfully\n",
      "Page 25 scrapped successfully\n",
      "Page 26 scrapped successfully\n",
      "Page 27 scrapped successfully\n",
      "Page 28 scrapped successfully\n",
      "Page 29 scrapped successfully\n",
      "Page 30 scrapped successfully\n",
      "Page 31 scrapped successfully\n",
      "Page 32 scrapped successfully\n",
      "Page 33 scrapped successfully\n",
      "Page 34 scrapped successfully\n",
      "Page 35 scrapped successfully\n",
      "Page 36 scrapped successfully\n",
      "Page 37 scrapped successfully\n",
      "Page 38 scrapped successfully\n",
      "Page 39 scrapped successfully\n",
      "Page 40 scrapped successfully\n",
      "Page 41 scrapped successfully\n",
      "Page 42 scrapped successfully\n",
      "Page 43 scrapped successfully\n",
      "Page 44 scrapped successfully\n",
      "Page 45 scrapped successfully\n",
      "Page 46 scrapped successfully\n",
      "Page 47 scrapped successfully\n",
      "Page 48 scrapped successfully\n",
      "Page 49 scrapped successfully\n",
      "Page 50 scrapped successfully\n"
     ]
    }
   ],
   "source": [
    "import time\n",
    "import requests\n",
    "from bs4 import BeautifulSoup\n",
    "\n",
    "base_url = \"https://www.jumia.co.ke/all-products/?page={}#catalog-listing\"\n",
    "records = []\n",
    "\n",
    "for page_number in range(1, 51):\n",
    "    url = base_url.format(page_number)\n",
    "    time.sleep(5)\n",
    "    response = requests.get(url)\n",
    "    if response.status_code == 200:\n",
    "        soup = BeautifulSoup(response.text, \"html.parser\")\n",
    "        print(f\"Page {page_number} scrapped successfully\")\n",
    "        items = soup.find_all(\"article\", attrs={\"class\": \"prd _fb col c-prd\"})\n",
    "        for item in items:\n",
    "            try:\n",
    "                item_name = item.find(\"h3\", attrs={\"class\": \"name\"}).text\n",
    "                current_price = item.find(\"div\", attrs={\"class\": \"prc\"}).text\n",
    "                old_price_element = item.find(\"div\", attrs={\"class\": \"old\"})\n",
    "                item_discount_element = item.find(\"div\", attrs={\"class\": \"bdg _dsct _sm\"})\n",
    "                item_link = item.find(\"a\", attrs={\"class\": \"core\"}).get(\"href\")\n",
    "                \n",
    "                if old_price_element:\n",
    "                    old_price = old_price_element.text\n",
    "                else:\n",
    "                    old_price = None\n",
    "                if item_discount_element:\n",
    "                    item_discount = item_discount_element.text\n",
    "                else:\n",
    "                    item_discount = None\n",
    "                records.append((item_name, current_price, old_price, item_discount, item_link))\n",
    "            except AttributeError:\n",
    "                records.append(None)\n",
    "    else:\n",
    "        print(f\"Page {page_number} not scrapped\")"
   ]
  },
  {
   "cell_type": "code",
   "execution_count": 11,
   "id": "a1b79175",
   "metadata": {
    "execution": {
     "iopub.execute_input": "2024-03-03T19:15:46.238910Z",
     "iopub.status.busy": "2024-03-03T19:15:46.238406Z",
     "iopub.status.idle": "2024-03-03T19:15:46.267743Z",
     "shell.execute_reply": "2024-03-03T19:15:46.266496Z"
    },
    "papermill": {
     "duration": 0.047283,
     "end_time": "2024-03-03T19:15:46.271171",
     "exception": false,
     "start_time": "2024-03-03T19:15:46.223888",
     "status": "completed"
    },
    "tags": []
   },
   "outputs": [
    {
     "name": "stdout",
     "output_type": "stream",
     "text": [
      "Data saved to jumia_products.csv\n"
     ]
    }
   ],
   "source": [
    "# Save records to CSV file\n",
    "import csv\n",
    "csv_file = \"jumia_products.csv\"\n",
    "with open(csv_file, mode='w', newline='', encoding='utf-8') as file:\n",
    "    writer = csv.writer(file)\n",
    "    writer.writerow([\"Item Name\", \"Current Price\", \"Old Price\", \"Discount\", \"Item Link\"])\n",
    "    writer.writerows(records)\n",
    "\n",
    "print(\"Data saved to\", csv_file)"
   ]
  },
  {
   "cell_type": "code",
   "execution_count": 12,
   "id": "a1131948",
   "metadata": {
    "execution": {
     "iopub.execute_input": "2024-03-03T19:15:46.299949Z",
     "iopub.status.busy": "2024-03-03T19:15:46.299505Z",
     "iopub.status.idle": "2024-03-03T19:15:46.323793Z",
     "shell.execute_reply": "2024-03-03T19:15:46.322620Z"
    },
    "papermill": {
     "duration": 0.041837,
     "end_time": "2024-03-03T19:15:46.327259",
     "exception": false,
     "start_time": "2024-03-03T19:15:46.285422",
     "status": "completed"
    },
    "tags": []
   },
   "outputs": [],
   "source": [
    "df = pd.read_csv(\"jumia_products.csv\")"
   ]
  },
  {
   "cell_type": "code",
   "execution_count": 13,
   "id": "6a8db285",
   "metadata": {
    "execution": {
     "iopub.execute_input": "2024-03-03T19:15:46.354433Z",
     "iopub.status.busy": "2024-03-03T19:15:46.353955Z",
     "iopub.status.idle": "2024-03-03T19:15:46.373582Z",
     "shell.execute_reply": "2024-03-03T19:15:46.372324Z"
    },
    "papermill": {
     "duration": 0.035906,
     "end_time": "2024-03-03T19:15:46.375960",
     "exception": false,
     "start_time": "2024-03-03T19:15:46.340054",
     "status": "completed"
    },
    "tags": []
   },
   "outputs": [
    {
     "name": "stdout",
     "output_type": "stream",
     "text": [
      "First few rows of the DataFrame:\n"
     ]
    },
    {
     "data": {
      "text/html": [
       "<div>\n",
       "<style scoped>\n",
       "    .dataframe tbody tr th:only-of-type {\n",
       "        vertical-align: middle;\n",
       "    }\n",
       "\n",
       "    .dataframe tbody tr th {\n",
       "        vertical-align: top;\n",
       "    }\n",
       "\n",
       "    .dataframe thead th {\n",
       "        text-align: right;\n",
       "    }\n",
       "</style>\n",
       "<table border=\"1\" class=\"dataframe\">\n",
       "  <thead>\n",
       "    <tr style=\"text-align: right;\">\n",
       "      <th></th>\n",
       "      <th>Item Name</th>\n",
       "      <th>Current Price</th>\n",
       "      <th>Old Price</th>\n",
       "      <th>Discount</th>\n",
       "      <th>Item Link</th>\n",
       "    </tr>\n",
       "  </thead>\n",
       "  <tbody>\n",
       "    <tr>\n",
       "      <th>0</th>\n",
       "      <td>NIVEA Radiant &amp; Beauty Advanced Care Lotion Fo...</td>\n",
       "      <td>KSh 854</td>\n",
       "      <td>KSh 1,460</td>\n",
       "      <td>42%</td>\n",
       "      <td>/nivea-radiant-beauty-advanced-care-lotion-for...</td>\n",
       "    </tr>\n",
       "    <tr>\n",
       "      <th>1</th>\n",
       "      <td>Vitron HTC4388FS - 43\" Smart  Android Frameles...</td>\n",
       "      <td>KSh 21,506</td>\n",
       "      <td>KSh 28,599</td>\n",
       "      <td>25%</td>\n",
       "      <td>/vitron-htc4388fs-43-smart-android-frameless-t...</td>\n",
       "    </tr>\n",
       "    <tr>\n",
       "      <th>2</th>\n",
       "      <td>Hikers 43'' Inch Frameless Android Smart FHD L...</td>\n",
       "      <td>KSh 21,599</td>\n",
       "      <td>KSh 28,644</td>\n",
       "      <td>25%</td>\n",
       "      <td>/hikers-43-inch-frameless-android-smart-fhd-le...</td>\n",
       "    </tr>\n",
       "    <tr>\n",
       "      <th>3</th>\n",
       "      <td>NIVEA Perfect &amp; Radiant Even Tone Day And Nigh...</td>\n",
       "      <td>KSh 899</td>\n",
       "      <td>KSh 1,560</td>\n",
       "      <td>42%</td>\n",
       "      <td>/nivea-perfect-radiant-even-tone-day-and-night...</td>\n",
       "    </tr>\n",
       "    <tr>\n",
       "      <th>4</th>\n",
       "      <td>AILYONS FK-0301 Stainless Steel 1.8L Electric ...</td>\n",
       "      <td>KSh 693</td>\n",
       "      <td>KSh 1,399</td>\n",
       "      <td>50%</td>\n",
       "      <td>/ailyons-fk-0301-stainless-steel-1.8l-electric...</td>\n",
       "    </tr>\n",
       "  </tbody>\n",
       "</table>\n",
       "</div>"
      ],
      "text/plain": [
       "                                           Item Name Current Price  \\\n",
       "0  NIVEA Radiant & Beauty Advanced Care Lotion Fo...       KSh 854   \n",
       "1  Vitron HTC4388FS - 43\" Smart  Android Frameles...    KSh 21,506   \n",
       "2  Hikers 43'' Inch Frameless Android Smart FHD L...    KSh 21,599   \n",
       "3  NIVEA Perfect & Radiant Even Tone Day And Nigh...       KSh 899   \n",
       "4  AILYONS FK-0301 Stainless Steel 1.8L Electric ...       KSh 693   \n",
       "\n",
       "    Old Price Discount                                          Item Link  \n",
       "0   KSh 1,460      42%  /nivea-radiant-beauty-advanced-care-lotion-for...  \n",
       "1  KSh 28,599      25%  /vitron-htc4388fs-43-smart-android-frameless-t...  \n",
       "2  KSh 28,644      25%  /hikers-43-inch-frameless-android-smart-fhd-le...  \n",
       "3   KSh 1,560      42%  /nivea-perfect-radiant-even-tone-day-and-night...  \n",
       "4   KSh 1,399      50%  /ailyons-fk-0301-stainless-steel-1.8l-electric...  "
      ]
     },
     "execution_count": 13,
     "metadata": {},
     "output_type": "execute_result"
    }
   ],
   "source": [
    "print(\"First few rows of the DataFrame:\")\n",
    "df.head(5)"
   ]
  },
  {
   "cell_type": "code",
   "execution_count": 14,
   "id": "4c5a2c8b",
   "metadata": {
    "execution": {
     "iopub.execute_input": "2024-03-03T19:15:46.404871Z",
     "iopub.status.busy": "2024-03-03T19:15:46.404331Z",
     "iopub.status.idle": "2024-03-03T19:15:46.438744Z",
     "shell.execute_reply": "2024-03-03T19:15:46.437103Z"
    },
    "papermill": {
     "duration": 0.051885,
     "end_time": "2024-03-03T19:15:46.441648",
     "exception": false,
     "start_time": "2024-03-03T19:15:46.389763",
     "status": "completed"
    },
    "tags": []
   },
   "outputs": [
    {
     "name": "stdout",
     "output_type": "stream",
     "text": [
      "\n",
      "Summary statistics:\n"
     ]
    },
    {
     "data": {
      "text/html": [
       "<div>\n",
       "<style scoped>\n",
       "    .dataframe tbody tr th:only-of-type {\n",
       "        vertical-align: middle;\n",
       "    }\n",
       "\n",
       "    .dataframe tbody tr th {\n",
       "        vertical-align: top;\n",
       "    }\n",
       "\n",
       "    .dataframe thead th {\n",
       "        text-align: right;\n",
       "    }\n",
       "</style>\n",
       "<table border=\"1\" class=\"dataframe\">\n",
       "  <thead>\n",
       "    <tr style=\"text-align: right;\">\n",
       "      <th></th>\n",
       "      <th>count</th>\n",
       "      <th>unique</th>\n",
       "      <th>top</th>\n",
       "      <th>freq</th>\n",
       "    </tr>\n",
       "  </thead>\n",
       "  <tbody>\n",
       "    <tr>\n",
       "      <th>Item Name</th>\n",
       "      <td>2000</td>\n",
       "      <td>1847</td>\n",
       "      <td>Motorola Moto Edge Plus Leather Phone Case</td>\n",
       "      <td>11</td>\n",
       "    </tr>\n",
       "    <tr>\n",
       "      <th>Current Price</th>\n",
       "      <td>2000</td>\n",
       "      <td>1105</td>\n",
       "      <td>KSh 699</td>\n",
       "      <td>34</td>\n",
       "    </tr>\n",
       "    <tr>\n",
       "      <th>Old Price</th>\n",
       "      <td>1819</td>\n",
       "      <td>1036</td>\n",
       "      <td>KSh 1,500</td>\n",
       "      <td>30</td>\n",
       "    </tr>\n",
       "    <tr>\n",
       "      <th>Discount</th>\n",
       "      <td>1819</td>\n",
       "      <td>59</td>\n",
       "      <td>50%</td>\n",
       "      <td>390</td>\n",
       "    </tr>\n",
       "    <tr>\n",
       "      <th>Item Link</th>\n",
       "      <td>2000</td>\n",
       "      <td>1891</td>\n",
       "      <td>/generic-strap-for-apple-watch-7-45mm-6se54-44...</td>\n",
       "      <td>3</td>\n",
       "    </tr>\n",
       "  </tbody>\n",
       "</table>\n",
       "</div>"
      ],
      "text/plain": [
       "              count unique                                                top  \\\n",
       "Item Name      2000   1847         Motorola Moto Edge Plus Leather Phone Case   \n",
       "Current Price  2000   1105                                            KSh 699   \n",
       "Old Price      1819   1036                                          KSh 1,500   \n",
       "Discount       1819     59                                                50%   \n",
       "Item Link      2000   1891  /generic-strap-for-apple-watch-7-45mm-6se54-44...   \n",
       "\n",
       "              freq  \n",
       "Item Name       11  \n",
       "Current Price   34  \n",
       "Old Price       30  \n",
       "Discount       390  \n",
       "Item Link        3  "
      ]
     },
     "execution_count": 14,
     "metadata": {},
     "output_type": "execute_result"
    }
   ],
   "source": [
    "print(\"\\nSummary statistics:\")\n",
    "df.describe().T"
   ]
  },
  {
   "cell_type": "code",
   "execution_count": 15,
   "id": "27793977",
   "metadata": {
    "execution": {
     "iopub.execute_input": "2024-03-03T19:15:46.471035Z",
     "iopub.status.busy": "2024-03-03T19:15:46.470572Z",
     "iopub.status.idle": "2024-03-03T19:15:46.480546Z",
     "shell.execute_reply": "2024-03-03T19:15:46.479318Z"
    },
    "papermill": {
     "duration": 0.028239,
     "end_time": "2024-03-03T19:15:46.483671",
     "exception": false,
     "start_time": "2024-03-03T19:15:46.455432",
     "status": "completed"
    },
    "tags": []
   },
   "outputs": [
    {
     "name": "stdout",
     "output_type": "stream",
     "text": [
      "\n",
      "Data types of columns:\n"
     ]
    },
    {
     "data": {
      "text/plain": [
       "Item Name        object\n",
       "Current Price    object\n",
       "Old Price        object\n",
       "Discount         object\n",
       "Item Link        object\n",
       "dtype: object"
      ]
     },
     "execution_count": 15,
     "metadata": {},
     "output_type": "execute_result"
    }
   ],
   "source": [
    "print(\"\\nData types of columns:\")\n",
    "df.dtypes"
   ]
  },
  {
   "cell_type": "code",
   "execution_count": 16,
   "id": "d055225d",
   "metadata": {
    "execution": {
     "iopub.execute_input": "2024-03-03T19:15:46.512995Z",
     "iopub.status.busy": "2024-03-03T19:15:46.512531Z",
     "iopub.status.idle": "2024-03-03T19:15:46.524117Z",
     "shell.execute_reply": "2024-03-03T19:15:46.522836Z"
    },
    "papermill": {
     "duration": 0.030041,
     "end_time": "2024-03-03T19:15:46.527263",
     "exception": false,
     "start_time": "2024-03-03T19:15:46.497222",
     "status": "completed"
    },
    "tags": []
   },
   "outputs": [
    {
     "name": "stdout",
     "output_type": "stream",
     "text": [
      "\n",
      "Missing values:\n"
     ]
    },
    {
     "data": {
      "text/plain": [
       "Item Name          0\n",
       "Current Price      0\n",
       "Old Price        181\n",
       "Discount         181\n",
       "Item Link          0\n",
       "dtype: int64"
      ]
     },
     "execution_count": 16,
     "metadata": {},
     "output_type": "execute_result"
    }
   ],
   "source": [
    "print(\"\\nMissing values:\")\n",
    "df.isnull().sum()"
   ]
  }
 ],
 "metadata": {
  "kaggle": {
   "accelerator": "none",
   "dataSources": [],
   "dockerImageVersionId": 30664,
   "isGpuEnabled": false,
   "isInternetEnabled": true,
   "language": "python",
   "sourceType": "notebook"
  },
  "kernelspec": {
   "display_name": "Python 3",
   "language": "python",
   "name": "python3"
  },
  "language_info": {
   "codemirror_mode": {
    "name": "ipython",
    "version": 3
   },
   "file_extension": ".py",
   "mimetype": "text/x-python",
   "name": "python",
   "nbconvert_exporter": "python",
   "pygments_lexer": "ipython3",
   "version": "3.10.13"
  },
  "papermill": {
   "default_parameters": {},
   "duration": 365.039325,
   "end_time": "2024-03-03T19:15:47.264615",
   "environment_variables": {},
   "exception": null,
   "input_path": "__notebook__.ipynb",
   "output_path": "__notebook__.ipynb",
   "parameters": {},
   "start_time": "2024-03-03T19:09:42.225290",
   "version": "2.5.0"
  }
 },
 "nbformat": 4,
 "nbformat_minor": 5
}
